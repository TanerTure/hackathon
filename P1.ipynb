{
 "cells": [
  {
   "cell_type": "code",
   "execution_count": 61,
   "id": "4bf5cbc5-a933-490c-a2bc-afe2286d1846",
   "metadata": {
    "tags": []
   },
   "outputs": [],
   "source": [
    "from qiskit import QuantumCircuit\n",
    "import bluequbit"
   ]
  },
  {
   "cell_type": "code",
   "execution_count": 93,
   "id": "80bd2b90-9641-49dc-a400-edd79c8dfd84",
   "metadata": {
    "tags": []
   },
   "outputs": [
    {
     "name": "stdout",
     "output_type": "stream",
     "text": [
      "ySWhqHOhZI8ARtwqg5AO2bw51CrILblD\n"
     ]
    }
   ],
   "source": [
    "qc = QuantumCircuit.from_qasm_file('P1_little_peak.qasm')\n",
    "\n",
    "with open(\"API_key.txt\",\"r\") as file:\n",
    "    API_key = file.readline().rstrip()\n",
    "print(API_key)"
   ]
  },
  {
   "cell_type": "code",
   "execution_count": 99,
   "id": "f3923788-1ad0-458c-a4c2-bde811d57255",
   "metadata": {
    "tags": []
   },
   "outputs": [
    {
     "name": "stdout",
     "output_type": "stream",
     "text": [
      "     ┌──────────┐            \n",
      "q_0: ┤ Ry(4π/5) ├────────────\n",
      "     └──┬───┬───┘┌──────────┐\n",
      "q_1: ───┤ X ├────┤ Ry(4π/5) ├\n",
      "        ├───┤    ├──────────┤\n",
      "q_2: ───┤ X ├────┤ Ry(4π/5) ├\n",
      "     ┌──┴───┴───┐└──────────┘\n",
      "q_3: ┤ Ry(4π/5) ├────────────\n",
      "     └──────────┘            \n"
     ]
    }
   ],
   "source": [
    "print(qc)"
   ]
  },
  {
   "cell_type": "code",
   "execution_count": 116,
   "id": "648e0565-8219-40df-b4c3-6415a3761763",
   "metadata": {
    "tags": []
   },
   "outputs": [
    {
     "name": "stderr",
     "output_type": "stream",
     "text": [
      "\u001b[36m[BQ-PYTHON-SDK]\u001b[0m[\u001b[33mWARNING\u001b[0m] - Beta version 0.12.0b1 of BlueQubit Python SDK is being used.\u001b[0m\n"
     ]
    },
    {
     "name": "stdout",
     "output_type": "stream",
     "text": [
      "\u001b[36m[BQ-PYTHON-SDK]\u001b[0m[\u001b[32mINFO\u001b[0m] - Submitted: Job ID: HQBBXODBqNSAbhLq, device: cpu, run status: COMPLETED, created on: 2025-04-12 16:37:54 UTC, cost: $0.00, run time: 8 ms, queue time: 97 ms, num qubits: 4\u001b[0m\n"
     ]
    }
   ],
   "source": [
    "bq = bluequbit.init(API_key)\n",
    "result = bq.run(qc)"
   ]
  },
  {
   "cell_type": "code",
   "execution_count": 103,
   "id": "e7d07218-f5b6-41c6-9812-b328eaa79b1a",
   "metadata": {
    "tags": []
   },
   "outputs": [
    {
     "name": "stdout",
     "output_type": "stream",
     "text": [
      "{'0000': 0.0074602714739739895, '0001': 0.07066471874713898, '0010': 0.0007876018644310534, '0011': 0.007460273802280426, '0100': 0.0007876018644310534, '0101': 0.007460273802280426, '0110': 8.314933074871078e-05, '0111': 0.0007876019808463752, '1000': 0.07066471874713898, '1001': 0.6693459153175354, '1010': 0.007460273802280426, '1011': 0.07066473364830017, '1100': 0.007460273802280426, '1101': 0.07066473364830017, '1110': 0.0007876019808463752, '1111': 0.007460273802280426}\n"
     ]
    }
   ],
   "source": [
    "print(result.get_counts())"
   ]
  },
  {
   "cell_type": "code",
   "execution_count": 113,
   "id": "b5032f04-9815-48ad-830a-e3b23b9243f2",
   "metadata": {
    "tags": []
   },
   "outputs": [
    {
     "data": {
      "text/plain": [
       "'1001'"
      ]
     },
     "execution_count": 113,
     "metadata": {},
     "output_type": "execute_result"
    }
   ],
   "source": [
    "def find_max(dictionary):\n",
    "    max_ = 0\n",
    "    bitstring = 0\n",
    "    for key in dictionary.keys():\n",
    "        if dictionary[key] > max_:\n",
    "            max_ = dictionary[key]\n",
    "            bitstring = key\n",
    "    return bitstring\n",
    "\n",
    "find_max(result.get_counts())"
   ]
  },
  {
   "cell_type": "code",
   "execution_count": null,
   "id": "516f682e-b923-4c4d-9d0d-a4dc8aac4460",
   "metadata": {},
   "outputs": [],
   "source": []
  }
 ],
 "metadata": {
  "kernelspec": {
   "display_name": "Python 3 (ipykernel)",
   "language": "python",
   "name": "python3"
  },
  "language_info": {
   "codemirror_mode": {
    "name": "ipython",
    "version": 3
   },
   "file_extension": ".py",
   "mimetype": "text/x-python",
   "name": "python",
   "nbconvert_exporter": "python",
   "pygments_lexer": "ipython3",
   "version": "3.11.7"
  }
 },
 "nbformat": 4,
 "nbformat_minor": 5
}
