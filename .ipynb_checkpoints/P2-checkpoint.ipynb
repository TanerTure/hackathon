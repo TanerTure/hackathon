{
 "cells": [
  {
   "cell_type": "code",
   "execution_count": 1,
   "id": "c664ee31-0b5d-489f-8b99-6ae1288b5eaf",
   "metadata": {
    "tags": []
   },
   "outputs": [],
   "source": [
    "import qiskit\n",
    "#from qiskit import QuantumCircuit\n",
    "import bluequbit\n",
    "\n",
    "import helper_funcs as funcs"
   ]
  },
  {
   "cell_type": "code",
   "execution_count": 5,
   "id": "d96bf4ed-4c57-41ea-b65f-d9ae08e2d36c",
   "metadata": {
    "tags": []
   },
   "outputs": [],
   "source": [
    "#qc = qiskit.QuantumCircuit.from_qasm_file('P2_swift_rise.qasm')\n",
    "qc = qiskit.QuantumCircuit.from_qasm_file('P4_test.qasm')\n",
    "with open(\"API_key.txt\",\"r\") as file:\n",
    "    API_key = file.readline().rstrip()\n"
   ]
  },
  {
   "cell_type": "code",
   "execution_count": 17,
   "id": "423bfa49-3928-48aa-8412-0ae5aa8818b4",
   "metadata": {
    "tags": []
   },
   "outputs": [
    {
     "data": {
      "text/plain": [
       "(<Qubit register=(28, \"q\"), index=27>,)"
      ]
     },
     "execution_count": 17,
     "metadata": {},
     "output_type": "execute_result"
    }
   ],
   "source": [
    "dir(qc[0])\n",
    "num_qubits = qc[0].qubits"
   ]
  },
  {
   "cell_type": "code",
   "execution_count": 9,
   "id": "1c53855e-b006-489b-a2c4-a495d63674a2",
   "metadata": {
    "tags": []
   },
   "outputs": [
    {
     "ename": "NameError",
     "evalue": "name 'QuantumCircuit' is not defined",
     "output_type": "error",
     "traceback": [
      "\u001b[1;31m---------------------------------------------------------------------------\u001b[0m",
      "\u001b[1;31mNameError\u001b[0m                                 Traceback (most recent call last)",
      "Cell \u001b[1;32mIn[9], line 2\u001b[0m\n\u001b[0;32m      1\u001b[0m num_qubits \u001b[38;5;241m=\u001b[39m qc\u001b[38;5;241m.\u001b[39mqubits\n\u001b[1;32m----> 2\u001b[0m sub_circuit \u001b[38;5;241m=\u001b[39m QuantumCircuit(num_qubits)\n",
      "\u001b[1;31mNameError\u001b[0m: name 'QuantumCircuit' is not defined"
     ]
    }
   ],
   "source": [
    "num_qubits = qc.qubits\n",
    "sub_circuit = QuantumCircuit(num_qubits)"
   ]
  },
  {
   "cell_type": "code",
   "execution_count": 11,
   "id": "ddbe0074-0ccf-4c67-9e15-0c77dc004a24",
   "metadata": {
    "tags": []
   },
   "outputs": [
    {
     "name": "stderr",
     "output_type": "stream",
     "text": [
      "\u001b[36m[BQ-PYTHON-SDK]\u001b[0m[\u001b[33mWARNING\u001b[0m] - Beta version 0.12.0b1 of BlueQubit Python SDK is being used.\u001b[0m\n"
     ]
    },
    {
     "name": "stdout",
     "output_type": "stream",
     "text": [
      "\u001b[36m[BQ-PYTHON-SDK]\u001b[0m[\u001b[32mINFO\u001b[0m] - Submitted: Job ID: ZWW4RtbP6CSB2zeB, device: mps.cpu, run status: RUNNING, created on: 2025-04-13 04:03:16 UTC, estimated runtime: 100 ms, estimated cost: $0.00, num qubits: 28\u001b[0m\n"
     ]
    }
   ],
   "source": [
    "bq = bluequbit.init(API_key)\n",
    "options = {\n",
    "        'mps_bond_dimension': 35,\n",
    "        'mps_truncation_threshold':1e-16\n",
    "}\n",
    "\n",
    "result = bq.run(qc, device=\"mps.cpu\", options=options)"
   ]
  },
  {
   "cell_type": "code",
   "execution_count": 12,
   "id": "9f2ecaa4-3af9-4b9f-9722-e694250f2bbf",
   "metadata": {
    "tags": []
   },
   "outputs": [
    {
     "data": {
      "text/plain": [
       "'0011100001101100011011010011'"
      ]
     },
     "execution_count": 12,
     "metadata": {},
     "output_type": "execute_result"
    }
   ],
   "source": [
    "funcs.find_max(result.get_counts())"
   ]
  },
  {
   "cell_type": "code",
   "execution_count": 17,
   "id": "6e46b020-e448-4eb1-8a5d-8faa31f6e313",
   "metadata": {
    "tags": []
   },
   "outputs": [
    {
     "data": {
      "text/plain": [
       "({1: {'rz', 'sx'}, 2: {'cz'}}, {'rz': 1260, 'sx': 840, 'cz': 210})"
      ]
     },
     "execution_count": 17,
     "metadata": {},
     "output_type": "execute_result"
    }
   ],
   "source": [
    "funcs.get_gates(qc)"
   ]
  },
  {
   "cell_type": "code",
   "execution_count": 166,
   "id": "bd5a7627-0ac7-4c64-bf1d-13b16070b298",
   "metadata": {
    "tags": []
   },
   "outputs": [
    {
     "data": {
      "text/plain": [
       "'0011100001101100011011010011'"
      ]
     },
     "execution_count": 166,
     "metadata": {},
     "output_type": "execute_result"
    }
   ],
   "source": [
    "funcs.find_max(result.get_counts())"
   ]
  },
  {
   "cell_type": "code",
   "execution_count": 174,
   "id": "6df28ca9-feca-44a4-b002-aa3d629cfddf",
   "metadata": {
    "tags": []
   },
   "outputs": [
    {
     "data": {
      "text/plain": [
       "dict_values([1, 1, 1, 1, 3, 1, 4, 1, 3, 1, 1, 1, 1, 1, 1, 1, 1, 2, 1, 1, 1, 1, 1, 1, 2, 1, 1, 1, 4, 1, 1, 1, 1, 2, 1, 1, 1, 1, 1, 1, 1, 1, 1, 1, 1, 1, 1, 1, 2, 1, 1, 2, 1, 1, 1, 1, 1, 2, 1, 1, 1, 1, 1, 1, 3, 1, 1, 1, 1, 1, 1, 7, 1, 1, 1, 1, 2, 1, 1, 1, 1, 1, 2, 1, 1, 1, 1, 1, 1, 1, 1, 1, 1, 1, 1, 1, 8, 1, 1, 1, 1, 1, 1, 1, 1, 1, 1, 1, 1, 2, 3, 1, 3, 1, 1, 1, 1, 1, 1, 1, 3, 1, 1, 1, 1, 2, 1, 1, 1, 1, 5, 3, 1, 1, 1, 1, 1, 1, 1, 1, 1, 1, 2, 1, 1, 1, 1, 2, 1, 1, 1, 2, 1, 1, 1, 1, 1, 1, 1, 2, 1, 2, 3, 2, 1, 1, 1, 1, 1, 1, 2, 1, 1, 1, 1, 6, 2, 2, 1, 1, 1, 1, 1, 1, 1, 458, 2, 1, 3, 1, 1, 2, 1, 1, 1, 2, 1, 1, 1, 1, 1, 1, 1, 1, 1, 1, 1, 1, 1, 1, 1, 1, 1, 2, 1, 2, 3, 1, 1, 1, 1, 1, 1, 2, 1, 1, 3, 1, 2, 1, 2, 1, 1, 1, 1, 2, 1, 1, 2, 1, 1, 1, 3, 1, 1, 1, 1, 1, 2, 2, 1, 1, 1, 5, 1, 1, 3, 1, 1, 1, 1, 1, 2, 1, 6, 1, 1, 1, 3, 1, 5, 1, 2, 1, 1, 2, 1, 4, 4, 1, 1, 1, 1, 2, 1, 1, 1, 1, 1, 1, 1, 1, 2, 1, 2, 1, 1, 2, 1, 1, 1, 1, 4, 1, 1, 1, 2, 1, 1, 1, 1, 1, 1, 1, 1, 1, 1, 1, 1, 2, 2, 2, 1, 2, 1, 1, 1, 1, 1, 1, 1, 2, 1, 1, 1, 1, 1, 1, 1, 1, 1, 1, 3, 1, 1, 1, 1, 1, 1, 1, 1, 1, 1, 1, 2, 1, 1, 1, 1, 1, 1, 1, 1, 1, 1, 1, 1, 1, 1, 1, 2, 1, 1, 1, 1, 1, 1, 1, 1, 1, 2, 1, 1, 1, 1, 1, 1, 1, 1, 1, 1, 1, 1, 1, 1, 1, 1, 1, 1, 1, 2, 1, 1, 1, 1, 2, 1, 2, 1, 1, 1, 5, 1, 1, 2, 1, 2, 1, 1, 1, 1, 1, 1, 1, 1, 1, 1, 1, 1, 1, 1])"
      ]
     },
     "execution_count": 174,
     "metadata": {},
     "output_type": "execute_result"
    }
   ],
   "source": [
    "result.get_counts().values()"
   ]
  },
  {
   "cell_type": "code",
   "execution_count": 145,
   "id": "5491eeda-ef7d-4143-b70f-b22a3cdaefc3",
   "metadata": {
    "tags": []
   },
   "outputs": [],
   "source": [
    "def get_single_qubit_gates(circuit):\n",
    "    single_qubit_gates = set()\n",
    "    non_single_qubit_gates = set()\n",
    "    sub_circuit = QuantumCircuit(1)\n",
    "    for i in range(len(circuit[:])):\n",
    "        if len(circuit[i].qubits) == 1:\n",
    "            single_qubit_gates.add(circuit[i].name)\n",
    "        else:\n",
    "            non_single_qubit_gates.add(circuit[i].name)\n",
    "    return single_qubit_gates, non_single_qubit_gates"
   ]
  },
  {
   "cell_type": "code",
   "execution_count": 189,
   "id": "6158a61e-6bfc-4f07-a5ef-dba3fd4e2f24",
   "metadata": {
    "tags": []
   },
   "outputs": [],
   "source": [
    "def get_gates(circuit):\n",
    "    num_qubits_to_gates = {}\n",
    "    for i in range(len(circuit[:])):\n",
    "        num_qubits = len(circuit[i].qubits)\n",
    "        if num_qubits not in num_qubits_to_gates:\n",
    "            num_qubits_to_gates[num_qubits] = set()\n",
    "        num_qubits_to_gates[num_qubits].add(circuit[i].name)\n",
    "    return num_qubits_to_gates\n",
    "\n",
    "                   "
   ]
  },
  {
   "cell_type": "code",
   "execution_count": 191,
   "id": "9acb4a19-7f4b-485c-ab42-114476edd3e3",
   "metadata": {
    "tags": []
   },
   "outputs": [
    {
     "data": {
      "text/plain": [
       "{1: {'rz', 'sx'}, 2: {'cz'}}"
      ]
     },
     "execution_count": 191,
     "metadata": {},
     "output_type": "execute_result"
    }
   ],
   "source": [
    "get_gates(qc)"
   ]
  },
  {
   "cell_type": "code",
   "execution_count": 149,
   "id": "41f55ffc-5a31-4b43-bf6f-4187aa95e594",
   "metadata": {
    "tags": []
   },
   "outputs": [],
   "source": [
    "single, non_single = get_single_qubit_gates(qc)"
   ]
  },
  {
   "cell_type": "code",
   "execution_count": 151,
   "id": "eee2e660-7b58-48ef-b985-c17bd8f6c0c7",
   "metadata": {
    "tags": []
   },
   "outputs": [
    {
     "data": {
      "text/plain": [
       "{'rz', 'sx'}"
      ]
     },
     "execution_count": 151,
     "metadata": {},
     "output_type": "execute_result"
    }
   ],
   "source": [
    "single"
   ]
  },
  {
   "cell_type": "code",
   "execution_count": 153,
   "id": "122aa91a-3e3c-403e-82f5-b2bdcbe0e7d2",
   "metadata": {
    "tags": []
   },
   "outputs": [
    {
     "data": {
      "text/plain": [
       "{'cz'}"
      ]
     },
     "execution_count": 153,
     "metadata": {},
     "output_type": "execute_result"
    }
   ],
   "source": [
    "non_single"
   ]
  },
  {
   "cell_type": "code",
   "execution_count": 85,
   "id": "20d1a7f4-df74-4a72-855d-06e6f1713734",
   "metadata": {
    "tags": []
   },
   "outputs": [
    {
     "data": {
      "text/plain": [
       "{'sx'}"
      ]
     },
     "execution_count": 85,
     "metadata": {},
     "output_type": "execute_result"
    }
   ],
   "source": [
    "single"
   ]
  },
  {
   "cell_type": "code",
   "execution_count": 87,
   "id": "2f728c74-b871-4d99-afab-e950c78fccb6",
   "metadata": {
    "tags": []
   },
   "outputs": [
    {
     "data": {
      "text/plain": [
       "set()"
      ]
     },
     "execution_count": 87,
     "metadata": {},
     "output_type": "execute_result"
    }
   ],
   "source": [
    "non_single"
   ]
  },
  {
   "cell_type": "code",
   "execution_count": null,
   "id": "c5c010f7-86c1-4564-a57e-c26370d519a0",
   "metadata": {},
   "outputs": [],
   "source": [
    "single_qubit_gates = ['rz'"
   ]
  },
  {
   "cell_type": "code",
   "execution_count": 73,
   "id": "bc439163-14ea-43d4-aaf4-e61a80050f8d",
   "metadata": {
    "tags": []
   },
   "outputs": [
    {
     "data": {
      "text/plain": [
       "'rz'"
      ]
     },
     "execution_count": 73,
     "metadata": {},
     "output_type": "execute_result"
    }
   ],
   "source": [
    "qc[4].name"
   ]
  }
 ],
 "metadata": {
  "kernelspec": {
   "display_name": "Python 3 (ipykernel)",
   "language": "python",
   "name": "python3"
  },
  "language_info": {
   "codemirror_mode": {
    "name": "ipython",
    "version": 3
   },
   "file_extension": ".py",
   "mimetype": "text/x-python",
   "name": "python",
   "nbconvert_exporter": "python",
   "pygments_lexer": "ipython3",
   "version": "3.11.7"
  }
 },
 "nbformat": 4,
 "nbformat_minor": 5
}
