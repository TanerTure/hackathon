{
 "cells": [
  {
   "cell_type": "code",
   "execution_count": 35,
   "id": "c664ee31-0b5d-489f-8b99-6ae1288b5eaf",
   "metadata": {
    "tags": []
   },
   "outputs": [],
   "source": [
    "import qiskit\n",
    "#from qiskit import QuantumCircuit\n",
    "import bluequbit"
   ]
  },
  {
   "cell_type": "code",
   "execution_count": 9,
   "id": "d96bf4ed-4c57-41ea-b65f-d9ae08e2d36c",
   "metadata": {
    "tags": []
   },
   "outputs": [],
   "source": [
    "qc = QuantumCircuit.from_qasm_file('P2_swift_rise.qasm')\n",
    "\n",
    "with open(\"API_key.txt\",\"r\") as file:\n",
    "    API_key = file.readline().rstrip()\n"
   ]
  },
  {
   "cell_type": "code",
   "execution_count": 17,
   "id": "423bfa49-3928-48aa-8412-0ae5aa8818b4",
   "metadata": {
    "tags": []
   },
   "outputs": [
    {
     "data": {
      "text/plain": [
       "(<Qubit register=(28, \"q\"), index=27>,)"
      ]
     },
     "execution_count": 17,
     "metadata": {},
     "output_type": "execute_result"
    }
   ],
   "source": [
    "dir(qc[0])\n",
    "num_qubits = qc[0].qubits"
   ]
  },
  {
   "cell_type": "code",
   "execution_count": 53,
   "id": "1c53855e-b006-489b-a2c4-a495d63674a2",
   "metadata": {
    "tags": []
   },
   "outputs": [],
   "source": [
    "num_qubits = qc.qubits\n",
    "sub_circuit = QuantumCircuit(num_qubits)"
   ]
  },
  {
   "cell_type": "code",
   "execution_count": 63,
   "id": "fe49b559-24fb-488b-9acd-c696858ea549",
   "metadata": {
    "tags": []
   },
   "outputs": [
    {
     "ename": "TypeError",
     "evalue": "QuantumCircuit.cx() missing 1 required positional argument: 'target_qubit'",
     "output_type": "error",
     "traceback": [
      "\u001b[1;31m---------------------------------------------------------------------------\u001b[0m",
      "\u001b[1;31mTypeError\u001b[0m                                 Traceback (most recent call last)",
      "Cell \u001b[1;32mIn[63], line 1\u001b[0m\n\u001b[1;32m----> 1\u001b[0m sub_circuit\u001b[38;5;241m.\u001b[39mcx(\u001b[38;5;241m1\u001b[39m)\n",
      "\u001b[1;31mTypeError\u001b[0m: QuantumCircuit.cx() missing 1 required positional argument: 'target_qubit'"
     ]
    }
   ],
   "source": [
    "sub_circuit.cx(1)\n",
    "#print(sub_circuit)"
   ]
  },
  {
   "cell_type": "code",
   "execution_count": 97,
   "id": "5491eeda-ef7d-4143-b70f-b22a3cdaefc3",
   "metadata": {
    "tags": []
   },
   "outputs": [],
   "source": [
    "def get_single_qubit_gates(circuit):\n",
    "    single_qubit_gates = set()\n",
    "    non_single_qubit_gates = set()\n",
    "    sub_circuit = QuantumCircuit(1)\n",
    "    for i in range(len(circuit[:])):\n",
    "        try:\n",
    "            eval(\"sub_circuit.\"+circuit[i].name+\"(0)\")\n",
    "        except TypeError as error:\n",
    "            #print(error)\n",
    "            non_single_qubit_gates.add(circuit[i].name)\n",
    "        else:\n",
    "            single_qubit_gates.add(circuit[i].name)\n",
    "    return single_qubit_gates, non_single_qubit_gates"
   ]
  },
  {
   "cell_type": "code",
   "execution_count": 99,
   "id": "41f55ffc-5a31-4b43-bf6f-4187aa95e594",
   "metadata": {
    "tags": []
   },
   "outputs": [],
   "source": [
    "single, non_single = get_single_qubit_gates(qc)"
   ]
  },
  {
   "cell_type": "code",
   "execution_count": 103,
   "id": "122aa91a-3e3c-403e-82f5-b2bdcbe0e7d2",
   "metadata": {
    "tags": []
   },
   "outputs": [
    {
     "data": {
      "text/plain": [
       "{'cz', 'rz'}"
      ]
     },
     "execution_count": 103,
     "metadata": {},
     "output_type": "execute_result"
    }
   ],
   "source": [
    "non_single"
   ]
  },
  {
   "cell_type": "code",
   "execution_count": 85,
   "id": "20d1a7f4-df74-4a72-855d-06e6f1713734",
   "metadata": {
    "tags": []
   },
   "outputs": [
    {
     "data": {
      "text/plain": [
       "{'sx'}"
      ]
     },
     "execution_count": 85,
     "metadata": {},
     "output_type": "execute_result"
    }
   ],
   "source": [
    "single"
   ]
  },
  {
   "cell_type": "code",
   "execution_count": 87,
   "id": "2f728c74-b871-4d99-afab-e950c78fccb6",
   "metadata": {
    "tags": []
   },
   "outputs": [
    {
     "data": {
      "text/plain": [
       "set()"
      ]
     },
     "execution_count": 87,
     "metadata": {},
     "output_type": "execute_result"
    }
   ],
   "source": [
    "non_single"
   ]
  },
  {
   "cell_type": "code",
   "execution_count": null,
   "id": "c5c010f7-86c1-4564-a57e-c26370d519a0",
   "metadata": {},
   "outputs": [],
   "source": [
    "single_qubit_gates = ['rz'"
   ]
  },
  {
   "cell_type": "code",
   "execution_count": 73,
   "id": "bc439163-14ea-43d4-aaf4-e61a80050f8d",
   "metadata": {
    "tags": []
   },
   "outputs": [
    {
     "data": {
      "text/plain": [
       "'rz'"
      ]
     },
     "execution_count": 73,
     "metadata": {},
     "output_type": "execute_result"
    }
   ],
   "source": [
    "qc[4].name"
   ]
  },
  {
   "cell_type": "code",
   "execution_count": null,
   "id": "6ebf62e0-85b5-4888-93b5-8385ac195a5d",
   "metadata": {},
   "outputs": [],
   "source": []
  },
  {
   "cell_type": "code",
   "execution_count": null,
   "id": "a106f07e-d116-4018-8320-269eeeb8a9b6",
   "metadata": {},
   "outputs": [],
   "source": []
  }
 ],
 "metadata": {
  "kernelspec": {
   "display_name": "Python 3 (ipykernel)",
   "language": "python",
   "name": "python3"
  },
  "language_info": {
   "codemirror_mode": {
    "name": "ipython",
    "version": 3
   },
   "file_extension": ".py",
   "mimetype": "text/x-python",
   "name": "python",
   "nbconvert_exporter": "python",
   "pygments_lexer": "ipython3",
   "version": "3.11.7"
  }
 },
 "nbformat": 4,
 "nbformat_minor": 5
}
