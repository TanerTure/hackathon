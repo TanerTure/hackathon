{
 "cells": [
  {
   "cell_type": "code",
   "execution_count": 164,
   "id": "c664ee31-0b5d-489f-8b99-6ae1288b5eaf",
   "metadata": {
    "tags": []
   },
   "outputs": [],
   "source": [
    "import qiskit\n",
    "#from qiskit import QuantumCircuit\n",
    "import bluequbit\n",
    "\n",
    "import helper_funcs as funcs"
   ]
  },
  {
   "cell_type": "code",
   "execution_count": 9,
   "id": "d96bf4ed-4c57-41ea-b65f-d9ae08e2d36c",
   "metadata": {
    "tags": []
   },
   "outputs": [],
   "source": [
    "qc = QuantumCircuit.from_qasm_file('P2_swift_rise.qasm')\n",
    "\n",
    "with open(\"API_key.txt\",\"r\") as file:\n",
    "    API_key = file.readline().rstrip()\n"
   ]
  },
  {
   "cell_type": "code",
   "execution_count": 17,
   "id": "423bfa49-3928-48aa-8412-0ae5aa8818b4",
   "metadata": {
    "tags": []
   },
   "outputs": [
    {
     "data": {
      "text/plain": [
       "(<Qubit register=(28, \"q\"), index=27>,)"
      ]
     },
     "execution_count": 17,
     "metadata": {},
     "output_type": "execute_result"
    }
   ],
   "source": [
    "dir(qc[0])\n",
    "num_qubits = qc[0].qubits"
   ]
  },
  {
   "cell_type": "code",
   "execution_count": 53,
   "id": "1c53855e-b006-489b-a2c4-a495d63674a2",
   "metadata": {
    "tags": []
   },
   "outputs": [],
   "source": [
    "num_qubits = qc.qubits\n",
    "sub_circuit = QuantumCircuit(num_qubits)"
   ]
  },
  {
   "cell_type": "code",
   "execution_count": 176,
   "id": "ddbe0074-0ccf-4c67-9e15-0c77dc004a24",
   "metadata": {
    "tags": []
   },
   "outputs": [
    {
     "name": "stderr",
     "output_type": "stream",
     "text": [
      "\u001b[36m[BQ-PYTHON-SDK]\u001b[0m[\u001b[33mWARNING\u001b[0m] - Beta version 0.12.0b1 of BlueQubit Python SDK is being used.\u001b[0m\n"
     ]
    },
    {
     "name": "stdout",
     "output_type": "stream",
     "text": [
      "\u001b[36m[BQ-PYTHON-SDK]\u001b[0m[\u001b[32mINFO\u001b[0m] - Submitted: Job ID: azbCaXpOSLWP7PbG, device: mps.cpu, run status: RUNNING, created on: 2025-04-12 17:29:20 UTC, estimated runtime: 100 ms, estimated cost: $0.00, num qubits: 28\u001b[0m\n"
     ]
    }
   ],
   "source": [
    "bq = bluequbit.init(API_key)\n",
    "options = {\n",
    "        'mps_bond_dimension': 35,\n",
    "        'mps_truncation_threshold':1e-16\n",
    "}\n",
    "\n",
    "result = bq.run(qc, device=\"mps.cpu\", options=options)"
   ]
  },
  {
   "cell_type": "code",
   "execution_count": 178,
   "id": "9f2ecaa4-3af9-4b9f-9722-e694250f2bbf",
   "metadata": {
    "tags": []
   },
   "outputs": [
    {
     "data": {
      "text/plain": [
       "'0011100001101100011011010011'"
      ]
     },
     "execution_count": 178,
     "metadata": {},
     "output_type": "execute_result"
    }
   ],
   "source": [
    "funcs.find_max(result.get_counts())"
   ]
  },
  {
   "cell_type": "code",
   "execution_count": 166,
   "id": "bd5a7627-0ac7-4c64-bf1d-13b16070b298",
   "metadata": {
    "tags": []
   },
   "outputs": [
    {
     "data": {
      "text/plain": [
       "'0011100001101100011011010011'"
      ]
     },
     "execution_count": 166,
     "metadata": {},
     "output_type": "execute_result"
    }
   ],
   "source": [
    "funcs.find_max(result.get_counts())"
   ]
  },
  {
   "cell_type": "code",
   "execution_count": 174,
   "id": "6df28ca9-feca-44a4-b002-aa3d629cfddf",
   "metadata": {
    "tags": []
   },
   "outputs": [
    {
     "data": {
      "text/plain": [
       "dict_values([1, 1, 1, 1, 3, 1, 4, 1, 3, 1, 1, 1, 1, 1, 1, 1, 1, 2, 1, 1, 1, 1, 1, 1, 2, 1, 1, 1, 4, 1, 1, 1, 1, 2, 1, 1, 1, 1, 1, 1, 1, 1, 1, 1, 1, 1, 1, 1, 2, 1, 1, 2, 1, 1, 1, 1, 1, 2, 1, 1, 1, 1, 1, 1, 3, 1, 1, 1, 1, 1, 1, 7, 1, 1, 1, 1, 2, 1, 1, 1, 1, 1, 2, 1, 1, 1, 1, 1, 1, 1, 1, 1, 1, 1, 1, 1, 8, 1, 1, 1, 1, 1, 1, 1, 1, 1, 1, 1, 1, 2, 3, 1, 3, 1, 1, 1, 1, 1, 1, 1, 3, 1, 1, 1, 1, 2, 1, 1, 1, 1, 5, 3, 1, 1, 1, 1, 1, 1, 1, 1, 1, 1, 2, 1, 1, 1, 1, 2, 1, 1, 1, 2, 1, 1, 1, 1, 1, 1, 1, 2, 1, 2, 3, 2, 1, 1, 1, 1, 1, 1, 2, 1, 1, 1, 1, 6, 2, 2, 1, 1, 1, 1, 1, 1, 1, 458, 2, 1, 3, 1, 1, 2, 1, 1, 1, 2, 1, 1, 1, 1, 1, 1, 1, 1, 1, 1, 1, 1, 1, 1, 1, 1, 1, 2, 1, 2, 3, 1, 1, 1, 1, 1, 1, 2, 1, 1, 3, 1, 2, 1, 2, 1, 1, 1, 1, 2, 1, 1, 2, 1, 1, 1, 3, 1, 1, 1, 1, 1, 2, 2, 1, 1, 1, 5, 1, 1, 3, 1, 1, 1, 1, 1, 2, 1, 6, 1, 1, 1, 3, 1, 5, 1, 2, 1, 1, 2, 1, 4, 4, 1, 1, 1, 1, 2, 1, 1, 1, 1, 1, 1, 1, 1, 2, 1, 2, 1, 1, 2, 1, 1, 1, 1, 4, 1, 1, 1, 2, 1, 1, 1, 1, 1, 1, 1, 1, 1, 1, 1, 1, 2, 2, 2, 1, 2, 1, 1, 1, 1, 1, 1, 1, 2, 1, 1, 1, 1, 1, 1, 1, 1, 1, 1, 3, 1, 1, 1, 1, 1, 1, 1, 1, 1, 1, 1, 2, 1, 1, 1, 1, 1, 1, 1, 1, 1, 1, 1, 1, 1, 1, 1, 2, 1, 1, 1, 1, 1, 1, 1, 1, 1, 2, 1, 1, 1, 1, 1, 1, 1, 1, 1, 1, 1, 1, 1, 1, 1, 1, 1, 1, 1, 2, 1, 1, 1, 1, 2, 1, 2, 1, 1, 1, 5, 1, 1, 2, 1, 2, 1, 1, 1, 1, 1, 1, 1, 1, 1, 1, 1, 1, 1, 1])"
      ]
     },
     "execution_count": 174,
     "metadata": {},
     "output_type": "execute_result"
    }
   ],
   "source": [
    "result.get_counts().values()"
   ]
  },
  {
   "cell_type": "code",
   "execution_count": 145,
   "id": "5491eeda-ef7d-4143-b70f-b22a3cdaefc3",
   "metadata": {
    "tags": []
   },
   "outputs": [],
   "source": [
    "def get_single_qubit_gates(circuit):\n",
    "    single_qubit_gates = set()\n",
    "    non_single_qubit_gates = set()\n",
    "    sub_circuit = QuantumCircuit(1)\n",
    "    for i in range(len(circuit[:])):\n",
    "        if len(circuit[i].qubits) == 1:\n",
    "            single_qubit_gates.add(circuit[i].name)\n",
    "        else:\n",
    "            non_single_qubit_gates.add(circuit[i].name)\n",
    "    return single_qubit_gates, non_single_qubit_gates"
   ]
  },
  {
   "cell_type": "code",
   "execution_count": 149,
   "id": "41f55ffc-5a31-4b43-bf6f-4187aa95e594",
   "metadata": {
    "tags": []
   },
   "outputs": [],
   "source": [
    "single, non_single = get_single_qubit_gates(qc)"
   ]
  },
  {
   "cell_type": "code",
   "execution_count": 151,
   "id": "eee2e660-7b58-48ef-b985-c17bd8f6c0c7",
   "metadata": {
    "tags": []
   },
   "outputs": [
    {
     "data": {
      "text/plain": [
       "{'rz', 'sx'}"
      ]
     },
     "execution_count": 151,
     "metadata": {},
     "output_type": "execute_result"
    }
   ],
   "source": [
    "single"
   ]
  },
  {
   "cell_type": "code",
   "execution_count": 153,
   "id": "122aa91a-3e3c-403e-82f5-b2bdcbe0e7d2",
   "metadata": {
    "tags": []
   },
   "outputs": [
    {
     "data": {
      "text/plain": [
       "{'cz'}"
      ]
     },
     "execution_count": 153,
     "metadata": {},
     "output_type": "execute_result"
    }
   ],
   "source": [
    "non_single"
   ]
  },
  {
   "cell_type": "code",
   "execution_count": 85,
   "id": "20d1a7f4-df74-4a72-855d-06e6f1713734",
   "metadata": {
    "tags": []
   },
   "outputs": [
    {
     "data": {
      "text/plain": [
       "{'sx'}"
      ]
     },
     "execution_count": 85,
     "metadata": {},
     "output_type": "execute_result"
    }
   ],
   "source": [
    "single"
   ]
  },
  {
   "cell_type": "code",
   "execution_count": 87,
   "id": "2f728c74-b871-4d99-afab-e950c78fccb6",
   "metadata": {
    "tags": []
   },
   "outputs": [
    {
     "data": {
      "text/plain": [
       "set()"
      ]
     },
     "execution_count": 87,
     "metadata": {},
     "output_type": "execute_result"
    }
   ],
   "source": [
    "non_single"
   ]
  },
  {
   "cell_type": "code",
   "execution_count": null,
   "id": "c5c010f7-86c1-4564-a57e-c26370d519a0",
   "metadata": {},
   "outputs": [],
   "source": [
    "single_qubit_gates = ['rz'"
   ]
  },
  {
   "cell_type": "code",
   "execution_count": 73,
   "id": "bc439163-14ea-43d4-aaf4-e61a80050f8d",
   "metadata": {
    "tags": []
   },
   "outputs": [
    {
     "data": {
      "text/plain": [
       "'rz'"
      ]
     },
     "execution_count": 73,
     "metadata": {},
     "output_type": "execute_result"
    }
   ],
   "source": [
    "qc[4].name"
   ]
  }
 ],
 "metadata": {
  "kernelspec": {
   "display_name": "Python 3 (ipykernel)",
   "language": "python",
   "name": "python3"
  },
  "language_info": {
   "codemirror_mode": {
    "name": "ipython",
    "version": 3
   },
   "file_extension": ".py",
   "mimetype": "text/x-python",
   "name": "python",
   "nbconvert_exporter": "python",
   "pygments_lexer": "ipython3",
   "version": "3.11.7"
  }
 },
 "nbformat": 4,
 "nbformat_minor": 5
}
