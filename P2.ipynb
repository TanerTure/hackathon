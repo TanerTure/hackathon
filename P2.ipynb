{
 "cells": [
  {
   "cell_type": "code",
   "execution_count": 1,
   "id": "c664ee31-0b5d-489f-8b99-6ae1288b5eaf",
   "metadata": {
    "tags": []
   },
   "outputs": [],
   "source": [
    "import qiskit\n",
    "#from qiskit import QuantumCircuit\n",
    "import bluequbit\n",
    "\n",
    "import helper_funcs as funcs"
   ]
  },
  {
   "cell_type": "code",
   "execution_count": 64,
   "id": "d96bf4ed-4c57-41ea-b65f-d9ae08e2d36c",
   "metadata": {
    "tags": []
   },
   "outputs": [],
   "source": [
    "#qc = qiskit.QuantumCircuit.from_qasm_file('P2_swift_rise.qasm')\n",
    "qc = qiskit.QuantumCircuit.from_qasm_file('P4_test.qasm')\n",
    "with open(\"API_key.txt\",\"r\") as file:\n",
    "    API_key = file.readline().rstrip()\n"
   ]
  },
  {
   "cell_type": "code",
   "execution_count": 66,
   "id": "e7dd7fe1-7989-4852-bab2-ef5512e703a1",
   "metadata": {
    "tags": []
   },
   "outputs": [
    {
     "name": "stdout",
     "output_type": "stream",
     "text": [
      "Operator([[0.53787455+0.j        , 0.1901163 -0.82130796j],\n",
      "          [0.53600054-0.65068763j, 0.32733983+0.42679933j]],\n",
      "         input_dims=(2,), output_dims=(2,))\n"
     ]
    }
   ],
   "source": [
    "from qiskit.quantum_info import Operator\n",
    "print(Operator(qc))"
   ]
  },
  {
   "cell_type": "code",
   "execution_count": 75,
   "id": "a8d18d3c-16ad-4229-8188-ce8c78ca5e5e",
   "metadata": {
    "tags": []
   },
   "outputs": [
    {
     "data": {
      "text/plain": [
       "['_ATOL_DEFAULT',\n",
       " '_MAX_TOL',\n",
       " '_RTOL_DEFAULT',\n",
       " '__abstractmethods__',\n",
       " '__add__',\n",
       " '__and__',\n",
       " '__array__',\n",
       " '__array_priority__',\n",
       " '__call__',\n",
       " '__class__',\n",
       " '__delattr__',\n",
       " '__dict__',\n",
       " '__dir__',\n",
       " '__doc__',\n",
       " '__eq__',\n",
       " '__format__',\n",
       " '__ge__',\n",
       " '__getattribute__',\n",
       " '__getstate__',\n",
       " '__gt__',\n",
       " '__hash__',\n",
       " '__init__',\n",
       " '__init_subclass__',\n",
       " '__le__',\n",
       " '__lt__',\n",
       " '__matmul__',\n",
       " '__module__',\n",
       " '__mul__',\n",
       " '__ne__',\n",
       " '__neg__',\n",
       " '__new__',\n",
       " '__pow__',\n",
       " '__radd__',\n",
       " '__reduce__',\n",
       " '__reduce_ex__',\n",
       " '__repr__',\n",
       " '__rmul__',\n",
       " '__rsub__',\n",
       " '__setattr__',\n",
       " '__sizeof__',\n",
       " '__slots__',\n",
       " '__str__',\n",
       " '__sub__',\n",
       " '__subclasshook__',\n",
       " '__truediv__',\n",
       " '__weakref__',\n",
       " '__xor__',\n",
       " '_abc_impl',\n",
       " '_add',\n",
       " '_append_instruction',\n",
       " '_data',\n",
       " '_einsum_matmul',\n",
       " '_init_instruction',\n",
       " '_input_dim',\n",
       " '_instruction_to_matrix',\n",
       " '_ipython_display_',\n",
       " '_multiply',\n",
       " '_op_shape',\n",
       " '_output_dim',\n",
       " '_qargs',\n",
       " '_tensor',\n",
       " 'adjoint',\n",
       " 'apply_permutation',\n",
       " 'atol',\n",
       " 'compose',\n",
       " 'conjugate',\n",
       " 'copy',\n",
       " 'data',\n",
       " 'dim',\n",
       " 'dot',\n",
       " 'draw',\n",
       " 'equiv',\n",
       " 'expand',\n",
       " 'from_circuit',\n",
       " 'from_label',\n",
       " 'input_dims',\n",
       " 'is_unitary',\n",
       " 'num_qubits',\n",
       " 'output_dims',\n",
       " 'power',\n",
       " 'qargs',\n",
       " 'reshape',\n",
       " 'reverse_qargs',\n",
       " 'rtol',\n",
       " 'settings',\n",
       " 'tensor',\n",
       " 'to_instruction',\n",
       " 'to_matrix',\n",
       " 'to_operator',\n",
       " 'transpose']"
      ]
     },
     "execution_count": 75,
     "metadata": {},
     "output_type": "execute_result"
    }
   ],
   "source": [
    "dir(Operator(qc))"
   ]
  },
  {
   "cell_type": "code",
   "execution_count": 81,
   "id": "4ebf45cb-17f3-49dd-849c-b69839633257",
   "metadata": {
    "tags": []
   },
   "outputs": [
    {
     "data": {
      "text/plain": [
       "array([[0.53787455+0.j        , 0.1901163 -0.82130796j],\n",
       "       [0.53600054-0.65068763j, 0.32733983+0.42679933j]])"
      ]
     },
     "execution_count": 81,
     "metadata": {},
     "output_type": "execute_result"
    }
   ],
   "source": [
    "Operator(qc).to_matrix()"
   ]
  },
  {
   "cell_type": "code",
   "execution_count": 92,
   "id": "c9d7ff20-64b5-4c4f-ae2f-ac686d37d038",
   "metadata": {
    "tags": []
   },
   "outputs": [
    {
     "name": "stdout",
     "output_type": "stream",
     "text": [
      "(0.19011629836958752-0.8213079598404102j)\n"
     ]
    }
   ],
   "source": [
    "print(Operator(qc).to_matrix()[0][1])"
   ]
  },
  {
   "cell_type": "code",
   "execution_count": 22,
   "id": "423bfa49-3928-48aa-8412-0ae5aa8818b4",
   "metadata": {
    "tags": []
   },
   "outputs": [],
   "source": [
    "dir(qc[0])\n",
    "num_qubits = qc[0].qubits"
   ]
  },
  {
   "cell_type": "code",
   "execution_count": 9,
   "id": "1c53855e-b006-489b-a2c4-a495d63674a2",
   "metadata": {
    "tags": []
   },
   "outputs": [
    {
     "ename": "NameError",
     "evalue": "name 'QuantumCircuit' is not defined",
     "output_type": "error",
     "traceback": [
      "\u001b[1;31m---------------------------------------------------------------------------\u001b[0m",
      "\u001b[1;31mNameError\u001b[0m                                 Traceback (most recent call last)",
      "Cell \u001b[1;32mIn[9], line 2\u001b[0m\n\u001b[0;32m      1\u001b[0m num_qubits \u001b[38;5;241m=\u001b[39m qc\u001b[38;5;241m.\u001b[39mqubits\n\u001b[1;32m----> 2\u001b[0m sub_circuit \u001b[38;5;241m=\u001b[39m QuantumCircuit(num_qubits)\n",
      "\u001b[1;31mNameError\u001b[0m: name 'QuantumCircuit' is not defined"
     ]
    }
   ],
   "source": [
    "num_qubits = qc.qubits\n",
    "sub_circuit = QuantumCircuit(num_qubits)"
   ]
  },
  {
   "cell_type": "code",
   "execution_count": 24,
   "id": "ddbe0074-0ccf-4c67-9e15-0c77dc004a24",
   "metadata": {
    "tags": []
   },
   "outputs": [
    {
     "name": "stderr",
     "output_type": "stream",
     "text": [
      "\u001b[36m[BQ-PYTHON-SDK]\u001b[0m[\u001b[33mWARNING\u001b[0m] - Beta version 0.12.0b1 of BlueQubit Python SDK is being used.\u001b[0m\n"
     ]
    },
    {
     "name": "stdout",
     "output_type": "stream",
     "text": [
      "\u001b[36m[BQ-PYTHON-SDK]\u001b[0m[\u001b[32mINFO\u001b[0m] - Submitted: Job ID: ZybUmHb3TbKXoa2W, device: mps.cpu, run status: RUNNING, created on: 2025-04-13 05:01:36 UTC, estimated runtime: 100 ms, estimated cost: $0.00, num qubits: 48\u001b[0m\n"
     ]
    }
   ],
   "source": [
    "bq = bluequbit.init(API_key)\n",
    "options = {\n",
    "        'mps_bond_dimension': 35,\n",
    "        'mps_truncation_threshold':1e-16\n",
    "}\n",
    "\n",
    "result = bq.run(qc, device=\"mps.cpu\", options=options)"
   ]
  },
  {
   "cell_type": "code",
   "execution_count": 26,
   "id": "a6b98e61-153f-4016-b135-df333d388d23",
   "metadata": {
    "tags": []
   },
   "outputs": [
    {
     "data": {
      "text/plain": [
       "Job ID: ZybUmHb3TbKXoa2W, device: mps.cpu, run status: COMPLETED, created on: 2025-04-13 05:01:36 UTC, cost: $0.00, run time: 27374 ms, queue time: 98 ms, num qubits: 48"
      ]
     },
     "execution_count": 26,
     "metadata": {},
     "output_type": "execute_result"
    }
   ],
   "source": [
    "result"
   ]
  },
  {
   "cell_type": "code",
   "execution_count": 1,
   "id": "09d65c6b-55bc-4462-95bf-4a61392cd98b",
   "metadata": {
    "tags": []
   },
   "outputs": [
    {
     "name": "stdout",
     "output_type": "stream",
     "text": [
      "48\n"
     ]
    }
   ],
   "source": [
    "print(len(\"101101000011011101010000000110001100100110101001\"))"
   ]
  },
  {
   "cell_type": "code",
   "execution_count": 28,
   "id": "9f2ecaa4-3af9-4b9f-9722-e694250f2bbf",
   "metadata": {
    "tags": []
   },
   "outputs": [
    {
     "data": {
      "text/plain": [
       "'100000000000000000000000000000000000000000000000'"
      ]
     },
     "execution_count": 28,
     "metadata": {},
     "output_type": "execute_result"
    }
   ],
   "source": [
    "funcs.find_max(result.get_counts())"
   ]
  },
  {
   "cell_type": "code",
   "execution_count": 17,
   "id": "6e46b020-e448-4eb1-8a5d-8faa31f6e313",
   "metadata": {
    "tags": []
   },
   "outputs": [
    {
     "data": {
      "text/plain": [
       "({1: {'rz', 'sx'}, 2: {'cz'}}, {'rz': 1260, 'sx': 840, 'cz': 210})"
      ]
     },
     "execution_count": 17,
     "metadata": {},
     "output_type": "execute_result"
    }
   ],
   "source": [
    "funcs.get_gates(qc)"
   ]
  },
  {
   "cell_type": "code",
   "execution_count": 166,
   "id": "bd5a7627-0ac7-4c64-bf1d-13b16070b298",
   "metadata": {
    "tags": []
   },
   "outputs": [
    {
     "data": {
      "text/plain": [
       "'0011100001101100011011010011'"
      ]
     },
     "execution_count": 166,
     "metadata": {},
     "output_type": "execute_result"
    }
   ],
   "source": [
    "funcs.find_max(result.get_counts())"
   ]
  },
  {
   "cell_type": "code",
   "execution_count": 32,
   "id": "6df28ca9-feca-44a4-b002-aa3d629cfddf",
   "metadata": {
    "tags": []
   },
   "outputs": [
    {
     "data": {
      "text/plain": [
       "dict_keys(['000000000000000000000000000000000000000000000000', '010000000000000000000000000000000000000000000000', '100000000000000000000000000000000000000000000000', '110000000000000000000000000000000000000000000000'])"
      ]
     },
     "execution_count": 32,
     "metadata": {},
     "output_type": "execute_result"
    }
   ],
   "source": [
    "result.get_counts().values()\n",
    "result.get_counts().keys()"
   ]
  },
  {
   "cell_type": "code",
   "execution_count": 145,
   "id": "5491eeda-ef7d-4143-b70f-b22a3cdaefc3",
   "metadata": {
    "tags": []
   },
   "outputs": [],
   "source": [
    "def get_single_qubit_gates(circuit):\n",
    "    single_qubit_gates = set()\n",
    "    non_single_qubit_gates = set()\n",
    "    sub_circuit = QuantumCircuit(1)\n",
    "    for i in range(len(circuit[:])):\n",
    "        if len(circuit[i].qubits) == 1:\n",
    "            single_qubit_gates.add(circuit[i].name)\n",
    "        else:\n",
    "            non_single_qubit_gates.add(circuit[i].name)\n",
    "    return single_qubit_gates, non_single_qubit_gates"
   ]
  },
  {
   "cell_type": "code",
   "execution_count": 189,
   "id": "6158a61e-6bfc-4f07-a5ef-dba3fd4e2f24",
   "metadata": {
    "tags": []
   },
   "outputs": [],
   "source": [
    "def get_gates(circuit):\n",
    "    num_qubits_to_gates = {}\n",
    "    for i in range(len(circuit[:])):\n",
    "        num_qubits = len(circuit[i].qubits)\n",
    "        if num_qubits not in num_qubits_to_gates:\n",
    "            num_qubits_to_gates[num_qubits] = set()\n",
    "        num_qubits_to_gates[num_qubits].add(circuit[i].name)\n",
    "    return num_qubits_to_gates\n",
    "\n",
    "                   "
   ]
  },
  {
   "cell_type": "code",
   "execution_count": 191,
   "id": "9acb4a19-7f4b-485c-ab42-114476edd3e3",
   "metadata": {
    "tags": []
   },
   "outputs": [
    {
     "data": {
      "text/plain": [
       "{1: {'rz', 'sx'}, 2: {'cz'}}"
      ]
     },
     "execution_count": 191,
     "metadata": {},
     "output_type": "execute_result"
    }
   ],
   "source": [
    "get_gates(qc)"
   ]
  },
  {
   "cell_type": "code",
   "execution_count": 149,
   "id": "41f55ffc-5a31-4b43-bf6f-4187aa95e594",
   "metadata": {
    "tags": []
   },
   "outputs": [],
   "source": [
    "single, non_single = get_single_qubit_gates(qc)"
   ]
  },
  {
   "cell_type": "code",
   "execution_count": 151,
   "id": "eee2e660-7b58-48ef-b985-c17bd8f6c0c7",
   "metadata": {
    "tags": []
   },
   "outputs": [
    {
     "data": {
      "text/plain": [
       "{'rz', 'sx'}"
      ]
     },
     "execution_count": 151,
     "metadata": {},
     "output_type": "execute_result"
    }
   ],
   "source": [
    "single"
   ]
  },
  {
   "cell_type": "code",
   "execution_count": 153,
   "id": "122aa91a-3e3c-403e-82f5-b2bdcbe0e7d2",
   "metadata": {
    "tags": []
   },
   "outputs": [
    {
     "data": {
      "text/plain": [
       "{'cz'}"
      ]
     },
     "execution_count": 153,
     "metadata": {},
     "output_type": "execute_result"
    }
   ],
   "source": [
    "non_single"
   ]
  },
  {
   "cell_type": "code",
   "execution_count": 85,
   "id": "20d1a7f4-df74-4a72-855d-06e6f1713734",
   "metadata": {
    "tags": []
   },
   "outputs": [
    {
     "data": {
      "text/plain": [
       "{'sx'}"
      ]
     },
     "execution_count": 85,
     "metadata": {},
     "output_type": "execute_result"
    }
   ],
   "source": [
    "single"
   ]
  },
  {
   "cell_type": "code",
   "execution_count": 87,
   "id": "2f728c74-b871-4d99-afab-e950c78fccb6",
   "metadata": {
    "tags": []
   },
   "outputs": [
    {
     "data": {
      "text/plain": [
       "set()"
      ]
     },
     "execution_count": 87,
     "metadata": {},
     "output_type": "execute_result"
    }
   ],
   "source": [
    "non_single"
   ]
  },
  {
   "cell_type": "code",
   "execution_count": null,
   "id": "c5c010f7-86c1-4564-a57e-c26370d519a0",
   "metadata": {},
   "outputs": [],
   "source": [
    "single_qubit_gates = ['rz'"
   ]
  },
  {
   "cell_type": "code",
   "execution_count": 73,
   "id": "bc439163-14ea-43d4-aaf4-e61a80050f8d",
   "metadata": {
    "tags": []
   },
   "outputs": [
    {
     "data": {
      "text/plain": [
       "'rz'"
      ]
     },
     "execution_count": 73,
     "metadata": {},
     "output_type": "execute_result"
    }
   ],
   "source": [
    "qc[4].name"
   ]
  }
 ],
 "metadata": {
  "kernelspec": {
   "display_name": "Python 3 (ipykernel)",
   "language": "python",
   "name": "python3"
  },
  "language_info": {
   "codemirror_mode": {
    "name": "ipython",
    "version": 3
   },
   "file_extension": ".py",
   "mimetype": "text/x-python",
   "name": "python",
   "nbconvert_exporter": "python",
   "pygments_lexer": "ipython3",
   "version": "3.11.7"
  }
 },
 "nbformat": 4,
 "nbformat_minor": 5
}
