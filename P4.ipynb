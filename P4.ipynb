{
 "cells": [
  {
   "cell_type": "code",
   "execution_count": 124,
   "id": "e10706f0-9a31-4eae-a30f-c5f8e304a86b",
   "metadata": {
    "tags": []
   },
   "outputs": [
    {
     "data": {
      "text/plain": [
       "<module 'helper_funcs' from 'C:\\\\Users\\\\Taner\\\\Desktop\\\\hackathon\\\\hackathon\\\\helper_funcs.py'>"
      ]
     },
     "execution_count": 124,
     "metadata": {},
     "output_type": "execute_result"
    }
   ],
   "source": [
    "import importlib\n",
    "import qiskit as qs\n",
    "import bluequbit\n",
    "import numpy as np\n",
    "\n",
    "import helper_funcs as funcs\n",
    "importlib.reload(funcs)"
   ]
  },
  {
   "cell_type": "code",
   "execution_count": 104,
   "id": "e96d51ae-0460-400e-a262-ea800c32848a",
   "metadata": {
    "tags": []
   },
   "outputs": [],
   "source": [
    "test_qc = qs.QuantumCircuit(2)"
   ]
  },
  {
   "cell_type": "code",
   "execution_count": 142,
   "id": "8735aa13-eb1c-40b4-bee4-1f50befd5119",
   "metadata": {
    "tags": []
   },
   "outputs": [
    {
     "name": "stdout",
     "output_type": "stream",
     "text": [
      "     \n",
      "q_0: \n",
      "     \n",
      "q_1: \n",
      "     \n"
     ]
    },
    {
     "data": {
      "text/plain": [
       "<qiskit.circuit.instructionset.InstructionSet at 0x20133f688e0>"
      ]
     },
     "execution_count": 142,
     "metadata": {},
     "output_type": "execute_result"
    }
   ],
   "source": [
    "print(test_qc)\n",
    "qc.u(0,np.pi,0,0)"
   ]
  },
  {
   "cell_type": "code",
   "execution_count": 158,
   "id": "ce19390f-30c4-4aa3-bdb2-97463a12e353",
   "metadata": {
    "tags": []
   },
   "outputs": [
    {
     "ename": "ModuleNotFoundError",
     "evalue": "No module named 'qiskit.providers.aer'",
     "output_type": "error",
     "traceback": [
      "\u001b[1;31m---------------------------------------------------------------------------\u001b[0m",
      "\u001b[1;31mModuleNotFoundError\u001b[0m                       Traceback (most recent call last)",
      "Cell \u001b[1;32mIn[158], line 2\u001b[0m\n\u001b[0;32m      1\u001b[0m \u001b[38;5;28;01mfrom\u001b[39;00m \u001b[38;5;21;01mqiskit\u001b[39;00m \u001b[38;5;28;01mimport\u001b[39;00m QuantumCircuit\n\u001b[1;32m----> 2\u001b[0m \u001b[38;5;28;01mfrom\u001b[39;00m \u001b[38;5;21;01mqiskit\u001b[39;00m\u001b[38;5;21;01m.\u001b[39;00m\u001b[38;5;21;01mproviders\u001b[39;00m\u001b[38;5;21;01m.\u001b[39;00m\u001b[38;5;21;01maer\u001b[39;00m \u001b[38;5;28;01mimport\u001b[39;00m AerSimulator\n\u001b[0;32m      3\u001b[0m \u001b[38;5;28;01mfrom\u001b[39;00m \u001b[38;5;21;01mqiskit\u001b[39;00m \u001b[38;5;28;01mimport\u001b[39;00m execute  \u001b[38;5;66;03m# Correct way to import 'execute' in Qiskit 2.0\u001b[39;00m\n\u001b[0;32m      5\u001b[0m \u001b[38;5;66;03m# Create a quantum circuit with one qubit\u001b[39;00m\n",
      "\u001b[1;31mModuleNotFoundError\u001b[0m: No module named 'qiskit.providers.aer'"
     ]
    }
   ],
   "source": [
    "from qiskit import QuantumCircuit\n",
    "from qiskit.providers.aer import AerSimulator\n",
    "from qiskit import execute  # Correct way to import 'execute' in Qiskit 2.0\n",
    "\n",
    "# Create a quantum circuit with one qubit\n",
    "qc = QuantumCircuit(1)\n",
    "\n",
    "# Apply the U3 gate to qubit 0 with parameters (θ, φ, λ)\n",
    "qc.u3(1.0, 2.0, 3.0, 0)  # U3(θ=1.0, φ=2.0, λ=3.0) on qubit 0\n",
    "\n",
    "# Draw the circuit\n",
    "print(qc.draw())\n",
    "\n",
    "# Simulate the circuit\n",
    "simulator = AerSimulator()  # Use AerSimulator for Qiskit 2.0\n",
    "result = execute(qc, simulator).result()\n",
    "\n",
    "# Get and print the statevector\n",
    "statevector = result.get_statevector()\n",
    "print(statevector)\n"
   ]
  },
  {
   "cell_type": "code",
   "execution_count": 132,
   "id": "6f565a7e-3f26-4664-ad3d-f4affd4e5ac9",
   "metadata": {
    "tags": []
   },
   "outputs": [
    {
     "name": "stdout",
     "output_type": "stream",
     "text": [
      "     \n",
      "q_0: \n",
      "     \n",
      "q_1: \n",
      "     \n"
     ]
    }
   ],
   "source": [
    "print(test_qc)\n"
   ]
  },
  {
   "cell_type": "code",
   "execution_count": 50,
   "id": "41c81a94-ad23-446c-b0ae-1cfbec87c45b",
   "metadata": {
    "tags": []
   },
   "outputs": [
    {
     "ename": "AttributeError",
     "evalue": "module 'qiskit' has no attribute '__qiskit_version__'",
     "output_type": "error",
     "traceback": [
      "\u001b[1;31m---------------------------------------------------------------------------\u001b[0m",
      "\u001b[1;31mAttributeError\u001b[0m                            Traceback (most recent call last)",
      "Cell \u001b[1;32mIn[50], line 1\u001b[0m\n\u001b[1;32m----> 1\u001b[0m qs\u001b[38;5;241m.\u001b[39m__qiskit_version__\n",
      "\u001b[1;31mAttributeError\u001b[0m: module 'qiskit' has no attribute '__qiskit_version__'"
     ]
    }
   ],
   "source": [
    "qs.__qiskit_version__"
   ]
  },
  {
   "cell_type": "code",
   "execution_count": 54,
   "id": "c41c6da8-fa49-481a-afc1-7c3beb7afbb7",
   "metadata": {
    "tags": []
   },
   "outputs": [
    {
     "name": "stdout",
     "output_type": "stream",
     "text": [
      "2.0.0\n"
     ]
    }
   ],
   "source": [
    "print(qs.version.get_version_info())"
   ]
  },
  {
   "cell_type": "code",
   "execution_count": 214,
   "id": "40c86d02-b4eb-4d48-99ec-767110750662",
   "metadata": {
    "tags": []
   },
   "outputs": [],
   "source": [
    "#qc = qs.QuantumCircuit.from_qasm_file('P4_golden_mountain.qasm')\n",
    "qc = qs.QuantumCircuit.from_qasm_file('P4_test.qasm')\n",
    "with open(\"API_key.txt\",\"r\") as file:\n",
    "    API_key = file.readline().rstrip()"
   ]
  },
  {
   "cell_type": "code",
   "execution_count": 176,
   "id": "74780e69-a1c5-4952-a601-601b8d39cf83",
   "metadata": {
    "tags": []
   },
   "outputs": [
    {
     "name": "stdout",
     "output_type": "stream",
     "text": [
      "({1: {'u3'}, 2: {'cz'}}, {'u3': 3, 'cz': 1})\n",
      "48 is the number of qubits\n",
      "3 is circuit depth\n"
     ]
    },
    {
     "data": {
      "text/plain": [
       "{(0, 1)}"
      ]
     },
     "execution_count": 176,
     "metadata": {},
     "output_type": "execute_result"
    }
   ],
   "source": [
    "#print(qc)\n",
    "print(funcs.get_gates(qc))\n",
    "print(qc.num_qubits, \"is the number of qubits\")\n",
    "print(qc.depth(), \"is circuit depth\")\n",
    "#print(qc[0].qubits)\n",
    "#print(len(qc[0].qubits))\n",
    "#print(type(qc[0].qubits))\n",
    "#print(type(qc[0].qubits[0].register))\n",
    "#print(qc.qubits[0])\n",
    "#print(dir(qc.qubits[0]._index))\n",
    "funcs.get_connections(qc)"
   ]
  },
  {
   "cell_type": "code",
   "execution_count": 178,
   "id": "cafbb96a-cf02-4f09-900c-6d0a7bc432e1",
   "metadata": {
    "tags": []
   },
   "outputs": [
    {
     "data": {
      "text/plain": [
       "{(0, 1)}"
      ]
     },
     "execution_count": 178,
     "metadata": {},
     "output_type": "execute_result"
    }
   ],
   "source": [
    "funcs.get_connections(qc)"
   ]
  },
  {
   "cell_type": "code",
   "execution_count": 71,
   "id": "a228bddc-bfd8-4a13-90df-b5d4735b4650",
   "metadata": {
    "tags": []
   },
   "outputs": [
    {
     "name": "stdout",
     "output_type": "stream",
     "text": [
      "<Qubit register=(48, \"q\"), index=0>\n"
     ]
    }
   ],
   "source": [
    "print(qc[2].qubits[0])\n"
   ]
  },
  {
   "cell_type": "code",
   "execution_count": 216,
   "id": "7622c603-6695-487d-83d4-1888ebe6e2b4",
   "metadata": {
    "tags": []
   },
   "outputs": [
    {
     "name": "stderr",
     "output_type": "stream",
     "text": [
      "\u001b[36m[BQ-PYTHON-SDK]\u001b[0m[\u001b[33mWARNING\u001b[0m] - Beta version 0.12.0b1 of BlueQubit Python SDK is being used.\u001b[0m\n"
     ]
    },
    {
     "name": "stdout",
     "output_type": "stream",
     "text": [
      "\u001b[36m[BQ-PYTHON-SDK]\u001b[0m[\u001b[32mINFO\u001b[0m] - Submitted: Job ID: KRm0Mxsh7h3mHCYp, device: mps.cpu, run status: RUNNING, created on: 2025-04-13 13:42:14 UTC, estimated runtime: 100 ms, estimated cost: $0.00, num qubits: 48\u001b[0m\n"
     ]
    }
   ],
   "source": [
    "bq = bluequbit.init(API_key)\n",
    "options = {\n",
    "        'mps_bond_dimension': 35,\n",
    "        'mps_truncation_threshold':1e-16,\n",
    "}\n",
    "\n",
    "result = bq.run(qc, asynchronous=False, device=\"mps.cpu\", options=options)"
   ]
  },
  {
   "cell_type": "code",
   "execution_count": 217,
   "id": "712ece5f-5979-420e-b674-abed9a121995",
   "metadata": {
    "tags": []
   },
   "outputs": [
    {
     "data": {
      "text/plain": [
       "{'000000000000000000000000000000000000000000000000': 678,\n",
       " '010000000000000000000000000000000000000000000000': 121,\n",
       " '100000000000000000000000000000000000000000000000': 80,\n",
       " '110000000000000000000000000000000000000000000000': 145}"
      ]
     },
     "execution_count": 217,
     "metadata": {},
     "output_type": "execute_result"
    }
   ],
   "source": [
    "result.get_counts()"
   ]
  },
  {
   "cell_type": "code",
   "execution_count": 184,
   "id": "c6c9c56c-d5e8-4b48-9177-8bae2f4f1c88",
   "metadata": {
    "tags": []
   },
   "outputs": [
    {
     "data": {
      "text/plain": [
       "Job ID: kkwCrszYcc7Vd996, device: mps.cpu, run status: COMPLETED, created on: 2025-04-13 13:22:39 UTC, cost: $0.00, run time: 31300 ms, queue time: 106 ms, num qubits: 48"
      ]
     },
     "execution_count": 184,
     "metadata": {},
     "output_type": "execute_result"
    }
   ],
   "source": [
    "result.get_counts()"
   ]
  },
  {
   "cell_type": "code",
   "execution_count": 187,
   "id": "1b6b15e4-259c-4327-a703-97dbf077d853",
   "metadata": {
    "tags": []
   },
   "outputs": [
    {
     "data": {
      "text/plain": [
       "{'000000000000000000000000000000000000000000000000': 672,\n",
       " '010000000000000000000000000000000000000000000000': 127,\n",
       " '100000000000000000000000000000000000000000000000': 76,\n",
       " '110000000000000000000000000000000000000000000000': 149}"
      ]
     },
     "execution_count": 187,
     "metadata": {},
     "output_type": "execute_result"
    }
   ],
   "source": [
    "result.get_counts()"
   ]
  },
  {
   "cell_type": "code",
   "execution_count": 50,
   "id": "05c2b434-ede4-4382-862a-6ff4155b0b0e",
   "metadata": {
    "tags": []
   },
   "outputs": [
    {
     "ename": "AttributeError",
     "evalue": "'qiskit._accelerate.circuit.CircuitInstruction' object has no attribute 'num_qubits'",
     "output_type": "error",
     "traceback": [
      "\u001b[1;31m---------------------------------------------------------------------------\u001b[0m",
      "\u001b[1;31mAttributeError\u001b[0m                            Traceback (most recent call last)",
      "Cell \u001b[1;32mIn[50], line 1\u001b[0m\n\u001b[1;32m----> 1\u001b[0m qc[\u001b[38;5;241m0\u001b[39m]\u001b[38;5;241m.\u001b[39mnum_qubits()\n",
      "\u001b[1;31mAttributeError\u001b[0m: 'qiskit._accelerate.circuit.CircuitInstruction' object has no attribute 'num_qubits'"
     ]
    }
   ],
   "source": [
    "%pip install "
   ]
  },
  {
   "cell_type": "code",
   "execution_count": null,
   "id": "6ebbf242-f6fa-4ca5-87db-6a40b9b88c6c",
   "metadata": {},
   "outputs": [],
   "source": []
  }
 ],
 "metadata": {
  "kernelspec": {
   "display_name": "Python 3 (ipykernel)",
   "language": "python",
   "name": "python3"
  },
  "language_info": {
   "codemirror_mode": {
    "name": "ipython",
    "version": 3
   },
   "file_extension": ".py",
   "mimetype": "text/x-python",
   "name": "python",
   "nbconvert_exporter": "python",
   "pygments_lexer": "ipython3",
   "version": "3.11.7"
  }
 },
 "nbformat": 4,
 "nbformat_minor": 5
}
